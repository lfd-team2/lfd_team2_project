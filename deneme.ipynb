{
 "cells": [
  {
   "cell_type": "code",
   "execution_count": 9,
   "metadata": {},
   "outputs": [
    {
     "ename": "ImportError",
     "evalue": "cannot import name 'dtype_dict_train' from 'normalization' (c:\\Users\\jbfmf\\Desktop\\KAGGLE PROJECT\\lfd_team2_project\\normalization.py)",
     "output_type": "error",
     "traceback": [
      "\u001b[1;31m---------------------------------------------------------------------------\u001b[0m",
      "\u001b[1;31mImportError\u001b[0m                               Traceback (most recent call last)",
      "Cell \u001b[1;32mIn[9], line 6\u001b[0m\n\u001b[0;32m      3\u001b[0m \u001b[38;5;28;01mimport\u001b[39;00m \u001b[38;5;21;01mmatplotlib\u001b[39;00m\u001b[38;5;21;01m.\u001b[39;00m\u001b[38;5;21;01mpyplot\u001b[39;00m \u001b[38;5;28;01mas\u001b[39;00m \u001b[38;5;21;01mplt\u001b[39;00m\n\u001b[0;32m      4\u001b[0m \u001b[38;5;28;01mimport\u001b[39;00m \u001b[38;5;21;01mcsv\u001b[39;00m\n\u001b[1;32m----> 6\u001b[0m \u001b[38;5;28;01mfrom\u001b[39;00m \u001b[38;5;21;01mnormalization\u001b[39;00m \u001b[38;5;28;01mimport\u001b[39;00m dtype_dict_train\n\u001b[0;32m      7\u001b[0m \u001b[38;5;28;01mfrom\u001b[39;00m \u001b[38;5;21;01mnormalization\u001b[39;00m \u001b[38;5;28;01mimport\u001b[39;00m dtype_dict_test\n",
      "\u001b[1;31mImportError\u001b[0m: cannot import name 'dtype_dict_train' from 'normalization' (c:\\Users\\jbfmf\\Desktop\\KAGGLE PROJECT\\lfd_team2_project\\normalization.py)"
     ]
    }
   ],
   "source": [
    "import numpy as np\n",
    "import pandas as pd\n",
    "import matplotlib.pyplot as plt\n",
    "import csv\n",
    "\n",
    "from normalization import dtype_dict_train\n",
    "from normalization import dtype_dict_test"
   ]
  },
  {
   "cell_type": "code",
   "execution_count": 5,
   "metadata": {},
   "outputs": [
    {
     "ename": "NameError",
     "evalue": "name 'dtype_dict_test' is not defined",
     "output_type": "error",
     "traceback": [
      "\u001b[1;31m---------------------------------------------------------------------------\u001b[0m",
      "\u001b[1;31mNameError\u001b[0m                                 Traceback (most recent call last)",
      "Cell \u001b[1;32mIn[5], line 2\u001b[0m\n\u001b[0;32m      1\u001b[0m \u001b[38;5;66;03m# read csv file\u001b[39;00m\n\u001b[1;32m----> 2\u001b[0m dataframe_test \u001b[38;5;241m=\u001b[39m pd\u001b[38;5;241m.\u001b[39mread_csv(\u001b[38;5;124m'\u001b[39m\u001b[38;5;124mdata/aps_failure_test_set.csv\u001b[39m\u001b[38;5;124m'\u001b[39m, dtype\u001b[38;5;241m=\u001b[39m\u001b[43mdtype_dict_test\u001b[49m, na_values\u001b[38;5;241m=\u001b[39m\u001b[38;5;124m'\u001b[39m\u001b[38;5;124mna\u001b[39m\u001b[38;5;124m'\u001b[39m, low_memory\u001b[38;5;241m=\u001b[39m\u001b[38;5;28;01mFalse\u001b[39;00m)\n\u001b[0;32m      4\u001b[0m \u001b[38;5;66;03m# replace 'na' with NaN\u001b[39;00m\n\u001b[0;32m      5\u001b[0m dataframe_test \u001b[38;5;241m=\u001b[39m dataframe_test\u001b[38;5;241m.\u001b[39mreplace(\u001b[38;5;124m'\u001b[39m\u001b[38;5;124mna\u001b[39m\u001b[38;5;124m'\u001b[39m, np\u001b[38;5;241m.\u001b[39mNaN)\n",
      "\u001b[1;31mNameError\u001b[0m: name 'dtype_dict_test' is not defined"
     ]
    }
   ],
   "source": [
    "# read csv file\n",
    "dataframe_test = pd.read_csv('data/aps_failure_test_set.csv', dtype=dtype_dict_test, na_values='na', low_memory=False)\n",
    "\n",
    "# replace 'na' with NaN\n",
    "dataframe_test = dataframe_test.replace('na', np.NaN)\n",
    "\n",
    "#print(dataframe_test.head(2))\n",
    "\n",
    "# convert to numpy array\n",
    "array_test = dataframe_test.to_numpy()\n",
    "print(array_test[0][0])\n",
    "print(\"------------------\")\n",
    "\n",
    "\n",
    "# train\n",
    "# read csv file\n",
    "dataframe_train = pd.read_csv('data/aps_failure_training_set.csv', dtype=dtype_dict_train, na_values='na', low_memory=False)\n",
    "\n",
    "# replace 'na' with NaN\n",
    "dataframe_train = dataframe_train.replace('na', np.NaN)\n",
    "\n",
    "#print(dataframe_test.head(2))\n",
    "\n",
    "# convert to numpy array\n",
    "array_train = dataframe_train.to_numpy()\n",
    "print(array_train[0][0])\n",
    "\n"
   ]
  },
  {
   "cell_type": "code",
   "execution_count": 3,
   "metadata": {},
   "outputs": [
    {
     "ename": "NameError",
     "evalue": "name 'values' is not defined",
     "output_type": "error",
     "traceback": [
      "\u001b[1;31m---------------------------------------------------------------------------\u001b[0m",
      "\u001b[1;31mNameError\u001b[0m                                 Traceback (most recent call last)",
      "Cell \u001b[1;32mIn[3], line 14\u001b[0m\n\u001b[0;32m     11\u001b[0m     \u001b[38;5;28mprint\u001b[39m(\u001b[38;5;124m\"\u001b[39m\u001b[38;5;124mzscore is\u001b[39m\u001b[38;5;124m\"\u001b[39m, zscore)\n\u001b[0;32m     12\u001b[0m     \u001b[38;5;28;01mreturn\u001b[39;00m zscore\n\u001b[1;32m---> 14\u001b[0m zscore(\u001b[43mvalues\u001b[49m)\n",
      "\u001b[1;31mNameError\u001b[0m: name 'values' is not defined"
     ]
    }
   ],
   "source": [
    "# z-score\n",
    "# standard deviation formula\n",
    "def zscore(values):\n",
    "    mean = sum(values)/len(values)\n",
    "    print(\"mean is\", mean)\n",
    "    variance = sum([(i-mean)**2 for i in values])/len(values)\n",
    "    print(\"variance is\", variance)\n",
    "    std = variance**0.5\n",
    "    print(\"standard deviation is\", std)\n",
    "    zscore = [(i-mean)/std for i in values]\n",
    "    print(\"zscore is\", zscore)\n",
    "    return zscore\n",
    "\n",
    "zscore(values)"
   ]
  },
  {
   "cell_type": "code",
   "execution_count": null,
   "metadata": {},
   "outputs": [],
   "source": []
  }
 ],
 "metadata": {
  "kernelspec": {
   "display_name": "Python 3",
   "language": "python",
   "name": "python3"
  },
  "language_info": {
   "codemirror_mode": {
    "name": "ipython",
    "version": 3
   },
   "file_extension": ".py",
   "mimetype": "text/x-python",
   "name": "python",
   "nbconvert_exporter": "python",
   "pygments_lexer": "ipython3",
   "version": "3.11.7"
  }
 },
 "nbformat": 4,
 "nbformat_minor": 2
}
