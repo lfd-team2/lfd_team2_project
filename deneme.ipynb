{
 "cells": [
  {
   "cell_type": "code",
   "execution_count": 4,
   "metadata": {},
   "outputs": [],
   "source": [
    "import numpy as np\n",
    "import pandas as pd\n",
    "import matplotlib.pyplot as plt\n",
    "\n",
    "from eda.column_type_dicts import dtype_dict_train\n",
    "from eda.column_type_dicts import dtype_dict_test"
   ]
  },
  {
   "cell_type": "code",
   "execution_count": 5,
   "metadata": {},
   "outputs": [
    {
     "name": "stdout",
     "output_type": "stream",
     "text": [
      "[1]\n",
      "(60000, 1)\n",
      "[1 'neg']\n",
      "(60000, 2)\n"
     ]
    }
   ],
   "source": [
    "# read csv file\n",
    "dataframe_test = pd.read_csv('data/aps_failure_test_set.csv', dtype=dtype_dict_test, na_values='na', low_memory=False)\n",
    "# replace 'na' with NaN\n",
    "dataframe_test = dataframe_test.replace('na', np.NaN)\n",
    "# test numpy array\n",
    "array_test = dataframe_test.to_numpy()\n",
    "\n",
    "# read csv file\n",
    "dataframe_train = pd.read_csv('data/aps_failure_training_set.csv', dtype=dtype_dict_train, na_values='na', low_memory=False)\n",
    "# replace 'na' with NaN\n",
    "dataframe_train = dataframe_train.replace('na', np.NaN)\n",
    "# test numpy array\n",
    "array_train = dataframe_train.to_numpy()\n",
    "\n",
    "train_results = array_train[:, 0:2]\n",
    "print(train_results[0])\n",
    "print(train_results.shape)\n",
    "\n",
    "train_data = array_train[:, 2:]\n",
    "print(train_data[0])\n",
    "print(train_data.shape)"
   ]
  },
  {
   "cell_type": "code",
   "execution_count": 6,
   "metadata": {},
   "outputs": [
    {
     "ename": "NameError",
     "evalue": "name 'values' is not defined",
     "output_type": "error",
     "traceback": [
      "\u001b[1;31m---------------------------------------------------------------------------\u001b[0m",
      "\u001b[1;31mNameError\u001b[0m                                 Traceback (most recent call last)",
      "Cell \u001b[1;32mIn[6], line 17\u001b[0m\n\u001b[0;32m     14\u001b[0m     \u001b[38;5;28mprint\u001b[39m(\u001b[38;5;124m\"\u001b[39m\u001b[38;5;124mzscore is\u001b[39m\u001b[38;5;124m\"\u001b[39m, zscore)\n\u001b[0;32m     15\u001b[0m     \u001b[38;5;28;01mreturn\u001b[39;00m zscore\n\u001b[1;32m---> 17\u001b[0m zscore(\u001b[43mvalues\u001b[49m)\n",
      "\u001b[1;31mNameError\u001b[0m: name 'values' is not defined"
     ]
    }
   ],
   "source": [
    "# z-score normalization\n",
    "\n",
    "\n",
    "\n",
    "# standard deviation formula\n",
    "def zscore(values):\n",
    "    mean = sum(values)/len(values)\n",
    "    print(\"mean is\", mean)\n",
    "    variance = sum([(i-mean)**2 for i in values])/len(values)\n",
    "    print(\"variance is\", variance)\n",
    "    std = variance**0.5\n",
    "    print(\"standard deviation is\", std)\n",
    "    zscore = [(i-mean)/std for i in values]\n",
    "    print(\"zscore is\", zscore)\n",
    "    return zscore\n",
    "\n",
    "zscore(values)"
   ]
  },
  {
   "cell_type": "code",
   "execution_count": null,
   "metadata": {},
   "outputs": [],
   "source": []
  }
 ],
 "metadata": {
  "kernelspec": {
   "display_name": "Python 3",
   "language": "python",
   "name": "python3"
  },
  "language_info": {
   "codemirror_mode": {
    "name": "ipython",
    "version": 3
   },
   "file_extension": ".py",
   "mimetype": "text/x-python",
   "name": "python",
   "nbconvert_exporter": "python",
   "pygments_lexer": "ipython3",
   "version": "3.12.0"
  }
 },
 "nbformat": 4,
 "nbformat_minor": 2
}
